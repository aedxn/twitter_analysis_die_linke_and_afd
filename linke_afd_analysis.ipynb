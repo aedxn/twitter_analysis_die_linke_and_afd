{
 "cells": [
  {
   "cell_type": "markdown",
   "metadata": {},
   "source": [
    "<h1> Twitter Analysis"
   ]
  },
  {
   "cell_type": "code",
   "execution_count": 92,
   "metadata": {},
   "outputs": [],
   "source": [
    "import pandas as pd\n",
    "import matplotlib.pyplot as plt\n",
    "\n",
    "# word cloud\n",
    "from wordcloud import WordCloud, STOPWORDS, ImageColorGenerator"
   ]
  },
  {
   "cell_type": "code",
   "execution_count": 93,
   "metadata": {},
   "outputs": [
    {
     "data": {
      "text/html": [
       "<div>\n",
       "<style scoped>\n",
       "    .dataframe tbody tr th:only-of-type {\n",
       "        vertical-align: middle;\n",
       "    }\n",
       "\n",
       "    .dataframe tbody tr th {\n",
       "        vertical-align: top;\n",
       "    }\n",
       "\n",
       "    .dataframe thead th {\n",
       "        text-align: right;\n",
       "    }\n",
       "</style>\n",
       "<table border=\"1\" class=\"dataframe\">\n",
       "  <thead>\n",
       "    <tr style=\"text-align: right;\">\n",
       "      <th></th>\n",
       "      <th>Time</th>\n",
       "      <th>User</th>\n",
       "      <th>Tweet</th>\n",
       "      <th>Favorites</th>\n",
       "      <th>Retweets</th>\n",
       "    </tr>\n",
       "  </thead>\n",
       "  <tbody>\n",
       "    <tr>\n",
       "      <th>0</th>\n",
       "      <td>26/10/2022 12:17</td>\n",
       "      <td>AndreasKalbitz</td>\n",
       "      <td>🚫 \"Wer Straftaten begeht, um vorgeblich das #K...</td>\n",
       "      <td>21.0</td>\n",
       "      <td>4.0</td>\n",
       "    </tr>\n",
       "    <tr>\n",
       "      <th>1</th>\n",
       "      <td>25/10/2022 15:32</td>\n",
       "      <td>AndreasKalbitz</td>\n",
       "      <td>💯 \"Wir werden immer mehr!\" - Eindrücke von der...</td>\n",
       "      <td>14.0</td>\n",
       "      <td>4.0</td>\n",
       "    </tr>\n",
       "    <tr>\n",
       "      <th>2</th>\n",
       "      <td>24/10/2022 23:57</td>\n",
       "      <td>AndreasKalbitz</td>\n",
       "      <td>RT @Marion33755286: Auf einer von Bürgern orga...</td>\n",
       "      <td>0.0</td>\n",
       "      <td>2890.0</td>\n",
       "    </tr>\n",
       "    <tr>\n",
       "      <th>3</th>\n",
       "      <td>24/10/2022 14:51</td>\n",
       "      <td>AndreasKalbitz</td>\n",
       "      <td>Und ich dachte in meiner Naivität, Tomatensupp...</td>\n",
       "      <td>51.0</td>\n",
       "      <td>6.0</td>\n",
       "    </tr>\n",
       "    <tr>\n",
       "      <th>4</th>\n",
       "      <td>21/10/2022 16:26</td>\n",
       "      <td>AndreasKalbitz</td>\n",
       "      <td>💥 📢 \"Der Letzte macht das Licht aus!\" \\n\\nKund...</td>\n",
       "      <td>27.0</td>\n",
       "      <td>12.0</td>\n",
       "    </tr>\n",
       "    <tr>\n",
       "      <th>...</th>\n",
       "      <td>...</td>\n",
       "      <td>...</td>\n",
       "      <td>...</td>\n",
       "      <td>...</td>\n",
       "      <td>...</td>\n",
       "    </tr>\n",
       "    <tr>\n",
       "      <th>64776</th>\n",
       "      <td>07/04/2022 10:33</td>\n",
       "      <td>Linksfraktion</td>\n",
       "      <td>RT @AtesGuerpinar: Heute geht es im #Bundestag...</td>\n",
       "      <td>0.0</td>\n",
       "      <td>2.0</td>\n",
       "    </tr>\n",
       "    <tr>\n",
       "      <th>64777</th>\n",
       "      <td>07/04/2022 09:47</td>\n",
       "      <td>Linksfraktion</td>\n",
       "      <td>RT @DietmarBartsch: Beim Gezerre um die #Impfp...</td>\n",
       "      <td>0.0</td>\n",
       "      <td>9.0</td>\n",
       "    </tr>\n",
       "    <tr>\n",
       "      <th>64778</th>\n",
       "      <td>07/04/2022 08:54</td>\n",
       "      <td>Linksfraktion</td>\n",
       "      <td>RT @SarahAnnLincoln: Damit Menschen ohne Papie...</td>\n",
       "      <td>0.0</td>\n",
       "      <td>13.0</td>\n",
       "    </tr>\n",
       "    <tr>\n",
       "      <th>64779</th>\n",
       "      <td>07/04/2022 08:53</td>\n",
       "      <td>Linksfraktion</td>\n",
       "      <td>RT @voglerk: Ein Armutszeugnis: Erst rund 250 ...</td>\n",
       "      <td>0.0</td>\n",
       "      <td>10.0</td>\n",
       "    </tr>\n",
       "    <tr>\n",
       "      <th>64780</th>\n",
       "      <td>07/04/2022 08:53</td>\n",
       "      <td>Linksfraktion</td>\n",
       "      <td>RT @anked: This! Junge Generationen brauchen m...</td>\n",
       "      <td>0.0</td>\n",
       "      <td>8.0</td>\n",
       "    </tr>\n",
       "  </tbody>\n",
       "</table>\n",
       "<p>64781 rows × 5 columns</p>\n",
       "</div>"
      ],
      "text/plain": [
       "                   Time            User  \\\n",
       "0      26/10/2022 12:17  AndreasKalbitz   \n",
       "1      25/10/2022 15:32  AndreasKalbitz   \n",
       "2      24/10/2022 23:57  AndreasKalbitz   \n",
       "3      24/10/2022 14:51  AndreasKalbitz   \n",
       "4      21/10/2022 16:26  AndreasKalbitz   \n",
       "...                 ...             ...   \n",
       "64776  07/04/2022 10:33   Linksfraktion   \n",
       "64777  07/04/2022 09:47   Linksfraktion   \n",
       "64778  07/04/2022 08:54   Linksfraktion   \n",
       "64779  07/04/2022 08:53   Linksfraktion   \n",
       "64780  07/04/2022 08:53   Linksfraktion   \n",
       "\n",
       "                                                   Tweet  Favorites  Retweets  \n",
       "0      🚫 \"Wer Straftaten begeht, um vorgeblich das #K...       21.0       4.0  \n",
       "1      💯 \"Wir werden immer mehr!\" - Eindrücke von der...       14.0       4.0  \n",
       "2      RT @Marion33755286: Auf einer von Bürgern orga...        0.0    2890.0  \n",
       "3      Und ich dachte in meiner Naivität, Tomatensupp...       51.0       6.0  \n",
       "4      💥 📢 \"Der Letzte macht das Licht aus!\" \\n\\nKund...       27.0      12.0  \n",
       "...                                                  ...        ...       ...  \n",
       "64776  RT @AtesGuerpinar: Heute geht es im #Bundestag...        0.0       2.0  \n",
       "64777  RT @DietmarBartsch: Beim Gezerre um die #Impfp...        0.0       9.0  \n",
       "64778  RT @SarahAnnLincoln: Damit Menschen ohne Papie...        0.0      13.0  \n",
       "64779  RT @voglerk: Ein Armutszeugnis: Erst rund 250 ...        0.0      10.0  \n",
       "64780  RT @anked: This! Junge Generationen brauchen m...        0.0       8.0  \n",
       "\n",
       "[64781 rows x 5 columns]"
      ]
     },
     "execution_count": 93,
     "metadata": {},
     "output_type": "execute_result"
    }
   ],
   "source": [
    "# load the dataset\n",
    "df = pd.read_csv(r'C:\\Users\\aedan\\Data Science Notebooks\\Twitter Analysis\\afd_linke_tweets_1.csv')\n",
    "df"
   ]
  },
  {
   "cell_type": "markdown",
   "metadata": {},
   "source": [
    "We can see the dataset includes tweets and retweets, the number of favorites and the number of retweets."
   ]
  },
  {
   "cell_type": "markdown",
   "metadata": {},
   "source": [
    "<h3> Data cleaning and manipulation"
   ]
  },
  {
   "cell_type": "markdown",
   "metadata": {},
   "source": [
    "Before we start we need to classify into tweets from the Afd and Die Linke."
   ]
  },
  {
   "cell_type": "code",
   "execution_count": 94,
   "metadata": {},
   "outputs": [
    {
     "data": {
      "text/html": [
       "<div>\n",
       "<style scoped>\n",
       "    .dataframe tbody tr th:only-of-type {\n",
       "        vertical-align: middle;\n",
       "    }\n",
       "\n",
       "    .dataframe tbody tr th {\n",
       "        vertical-align: top;\n",
       "    }\n",
       "\n",
       "    .dataframe thead th {\n",
       "        text-align: right;\n",
       "    }\n",
       "</style>\n",
       "<table border=\"1\" class=\"dataframe\">\n",
       "  <thead>\n",
       "    <tr style=\"text-align: right;\">\n",
       "      <th></th>\n",
       "      <th>Time</th>\n",
       "      <th>User</th>\n",
       "      <th>Tweet</th>\n",
       "      <th>Favorites</th>\n",
       "      <th>Retweets</th>\n",
       "      <th>Party</th>\n",
       "    </tr>\n",
       "  </thead>\n",
       "  <tbody>\n",
       "    <tr>\n",
       "      <th>0</th>\n",
       "      <td>26/10/2022 12:17</td>\n",
       "      <td>AndreasKalbitz</td>\n",
       "      <td>🚫 \"Wer Straftaten begeht, um vorgeblich das #K...</td>\n",
       "      <td>21.0</td>\n",
       "      <td>4.0</td>\n",
       "      <td>AfD</td>\n",
       "    </tr>\n",
       "    <tr>\n",
       "      <th>1</th>\n",
       "      <td>25/10/2022 15:32</td>\n",
       "      <td>AndreasKalbitz</td>\n",
       "      <td>💯 \"Wir werden immer mehr!\" - Eindrücke von der...</td>\n",
       "      <td>14.0</td>\n",
       "      <td>4.0</td>\n",
       "      <td>AfD</td>\n",
       "    </tr>\n",
       "    <tr>\n",
       "      <th>2</th>\n",
       "      <td>24/10/2022 23:57</td>\n",
       "      <td>AndreasKalbitz</td>\n",
       "      <td>RT @Marion33755286: Auf einer von Bürgern orga...</td>\n",
       "      <td>0.0</td>\n",
       "      <td>2890.0</td>\n",
       "      <td>AfD</td>\n",
       "    </tr>\n",
       "    <tr>\n",
       "      <th>3</th>\n",
       "      <td>24/10/2022 14:51</td>\n",
       "      <td>AndreasKalbitz</td>\n",
       "      <td>Und ich dachte in meiner Naivität, Tomatensupp...</td>\n",
       "      <td>51.0</td>\n",
       "      <td>6.0</td>\n",
       "      <td>AfD</td>\n",
       "    </tr>\n",
       "    <tr>\n",
       "      <th>4</th>\n",
       "      <td>21/10/2022 16:26</td>\n",
       "      <td>AndreasKalbitz</td>\n",
       "      <td>💥 📢 \"Der Letzte macht das Licht aus!\" \\n\\nKund...</td>\n",
       "      <td>27.0</td>\n",
       "      <td>12.0</td>\n",
       "      <td>AfD</td>\n",
       "    </tr>\n",
       "    <tr>\n",
       "      <th>...</th>\n",
       "      <td>...</td>\n",
       "      <td>...</td>\n",
       "      <td>...</td>\n",
       "      <td>...</td>\n",
       "      <td>...</td>\n",
       "      <td>...</td>\n",
       "    </tr>\n",
       "    <tr>\n",
       "      <th>64776</th>\n",
       "      <td>07/04/2022 10:33</td>\n",
       "      <td>Linksfraktion</td>\n",
       "      <td>RT @AtesGuerpinar: Heute geht es im #Bundestag...</td>\n",
       "      <td>0.0</td>\n",
       "      <td>2.0</td>\n",
       "      <td>Die_Linke</td>\n",
       "    </tr>\n",
       "    <tr>\n",
       "      <th>64777</th>\n",
       "      <td>07/04/2022 09:47</td>\n",
       "      <td>Linksfraktion</td>\n",
       "      <td>RT @DietmarBartsch: Beim Gezerre um die #Impfp...</td>\n",
       "      <td>0.0</td>\n",
       "      <td>9.0</td>\n",
       "      <td>Die_Linke</td>\n",
       "    </tr>\n",
       "    <tr>\n",
       "      <th>64778</th>\n",
       "      <td>07/04/2022 08:54</td>\n",
       "      <td>Linksfraktion</td>\n",
       "      <td>RT @SarahAnnLincoln: Damit Menschen ohne Papie...</td>\n",
       "      <td>0.0</td>\n",
       "      <td>13.0</td>\n",
       "      <td>Die_Linke</td>\n",
       "    </tr>\n",
       "    <tr>\n",
       "      <th>64779</th>\n",
       "      <td>07/04/2022 08:53</td>\n",
       "      <td>Linksfraktion</td>\n",
       "      <td>RT @voglerk: Ein Armutszeugnis: Erst rund 250 ...</td>\n",
       "      <td>0.0</td>\n",
       "      <td>10.0</td>\n",
       "      <td>Die_Linke</td>\n",
       "    </tr>\n",
       "    <tr>\n",
       "      <th>64780</th>\n",
       "      <td>07/04/2022 08:53</td>\n",
       "      <td>Linksfraktion</td>\n",
       "      <td>RT @anked: This! Junge Generationen brauchen m...</td>\n",
       "      <td>0.0</td>\n",
       "      <td>8.0</td>\n",
       "      <td>Die_Linke</td>\n",
       "    </tr>\n",
       "  </tbody>\n",
       "</table>\n",
       "<p>64781 rows × 6 columns</p>\n",
       "</div>"
      ],
      "text/plain": [
       "                   Time            User  \\\n",
       "0      26/10/2022 12:17  AndreasKalbitz   \n",
       "1      25/10/2022 15:32  AndreasKalbitz   \n",
       "2      24/10/2022 23:57  AndreasKalbitz   \n",
       "3      24/10/2022 14:51  AndreasKalbitz   \n",
       "4      21/10/2022 16:26  AndreasKalbitz   \n",
       "...                 ...             ...   \n",
       "64776  07/04/2022 10:33   Linksfraktion   \n",
       "64777  07/04/2022 09:47   Linksfraktion   \n",
       "64778  07/04/2022 08:54   Linksfraktion   \n",
       "64779  07/04/2022 08:53   Linksfraktion   \n",
       "64780  07/04/2022 08:53   Linksfraktion   \n",
       "\n",
       "                                                   Tweet  Favorites  Retweets  \\\n",
       "0      🚫 \"Wer Straftaten begeht, um vorgeblich das #K...       21.0       4.0   \n",
       "1      💯 \"Wir werden immer mehr!\" - Eindrücke von der...       14.0       4.0   \n",
       "2      RT @Marion33755286: Auf einer von Bürgern orga...        0.0    2890.0   \n",
       "3      Und ich dachte in meiner Naivität, Tomatensupp...       51.0       6.0   \n",
       "4      💥 📢 \"Der Letzte macht das Licht aus!\" \\n\\nKund...       27.0      12.0   \n",
       "...                                                  ...        ...       ...   \n",
       "64776  RT @AtesGuerpinar: Heute geht es im #Bundestag...        0.0       2.0   \n",
       "64777  RT @DietmarBartsch: Beim Gezerre um die #Impfp...        0.0       9.0   \n",
       "64778  RT @SarahAnnLincoln: Damit Menschen ohne Papie...        0.0      13.0   \n",
       "64779  RT @voglerk: Ein Armutszeugnis: Erst rund 250 ...        0.0      10.0   \n",
       "64780  RT @anked: This! Junge Generationen brauchen m...        0.0       8.0   \n",
       "\n",
       "           Party  \n",
       "0            AfD  \n",
       "1            AfD  \n",
       "2            AfD  \n",
       "3            AfD  \n",
       "4            AfD  \n",
       "...          ...  \n",
       "64776  Die_Linke  \n",
       "64777  Die_Linke  \n",
       "64778  Die_Linke  \n",
       "64779  Die_Linke  \n",
       "64780  Die_Linke  \n",
       "\n",
       "[64781 rows x 6 columns]"
      ]
     },
     "execution_count": 94,
     "metadata": {},
     "output_type": "execute_result"
    }
   ],
   "source": [
    "# creating a dictionary\n",
    "party_dict = {'AndreasKalbitz': 'AfD', 'M_HarderKuehnel': 'AfD', 'AfDProtschka': 'AfD', 'StBrandner': 'AfD', 'P_Plattform': 'AfD', \n",
    "        'BjoernHoecke': 'AfD', 'Alice_Weidel': 'AfD', 'Tino_Chrupalla': 'AfD', 'Beatrix_vStorch': 'AfD', 'Frohnmaier_AfD': 'AfD',\n",
    "        'AfD': 'AfD', 'AfDimBundestag': 'AfD','dieLinke': 'Die_Linke', 'Linksfraktion': 'Die_Linke', \n",
    "        'Janine_Wissler':'Die_Linke', 'katjakipping': 'Die_Linke', 'SWagenknecht': 'Die_Linke', 'GregorGysi': 'Die_Linke', \n",
    "        'DietmarBartsch': 'Die_Linke', 'Amira_M_Ali': 'Die_Linke', 'schirdewan': 'Die_Linke', 'bodoramelow': 'Die_Linke', \n",
    "        'lgbeutin': 'Die_Linke', 'SusanneHennig': 'Die_Linke', 'PetraPauMaHe': 'Die_Linke'}\n",
    "\n",
    "# adding a new column named 'Party'\n",
    "df['Party'] = df['User'].map(party_dict)\n",
    "df"
   ]
  },
  {
   "cell_type": "markdown",
   "metadata": {},
   "source": [
    "<h3> Tweet Analysis"
   ]
  },
  {
   "cell_type": "code",
   "execution_count": 95,
   "metadata": {},
   "outputs": [
    {
     "name": "stdout",
     "output_type": "stream",
     "text": [
      "(38712, 6)\n",
      "(26063, 6)\n"
     ]
    }
   ],
   "source": [
    "# slicing the df into part afd and part linke\n",
    "dfl = df[df['Party'] == 'Die_Linke']\n",
    "print(dfl.shape)\n",
    "\n",
    "dfa = df[df['Party'] == 'AfD']\n",
    "print(dfa.shape)"
   ]
  },
  {
   "cell_type": "code",
   "execution_count": 96,
   "metadata": {},
   "outputs": [
    {
     "data": {
      "text/plain": [
       "AfDimBundestag     3250\n",
       "AfD                3249\n",
       "StBrandner         3246\n",
       "AfDProtschka       3236\n",
       "Beatrix_vStorch    3231\n",
       "Alice_Weidel       2861\n",
       "Frohnmaier_AfD     2416\n",
       "BjoernHoecke       1274\n",
       "Tino_Chrupalla     1177\n",
       "P_Plattform        1092\n",
       "M_HarderKuehnel     588\n",
       "AndreasKalbitz      443\n",
       "Name: User, dtype: int64"
      ]
     },
     "execution_count": 96,
     "metadata": {},
     "output_type": "execute_result"
    }
   ],
   "source": [
    "# top tweeters afd\n",
    "dfa.User.value_counts()"
   ]
  },
  {
   "cell_type": "code",
   "execution_count": 97,
   "metadata": {},
   "outputs": [
    {
     "data": {
      "text/plain": [
       "Linksfraktion     3250\n",
       "bodoramelow       3249\n",
       "DietmarBartsch    3248\n",
       "dieLinke          3247\n",
       "katjakipping      3244\n",
       "schirdewan        3238\n",
       "PetraPauMaHe      3230\n",
       "lgbeutin          3228\n",
       "Janine_Wissler    3226\n",
       "SusanneHennig     3225\n",
       "GregorGysi        2842\n",
       "SWagenknecht      2241\n",
       "Amira_M_Ali       1244\n",
       "Name: User, dtype: int64"
      ]
     },
     "execution_count": 97,
     "metadata": {},
     "output_type": "execute_result"
    }
   ],
   "source": [
    "# top tweeters die linke\n",
    "dfl.User.value_counts()"
   ]
  },
  {
   "cell_type": "markdown",
   "metadata": {},
   "source": [
    "What we see from the top two charts is that the people who tweet the most all have a similar amount of tweets. This is because of the restriction set by Twitter's API. As I do not own a research account I am not able to obtain each user's whole timeline, but only a maximum of around 3250 of the most recent tweets. This will give my below data analysis a recency bias towards recent political topics.\n",
    "\n",
    "But what we can also infer from the above charts is that the politicians of Die Linke tweet much more frequent than those of the AfD. Around eigth politicans (and the two official Die Linke accounts) of Die Linke reach the maximum amount of requested tweets, whereas only three politicians (and the two official AfD accounts) of the Afd reach this limit. In fact, Bodo Ramelow the minister president of Thürigen is the most frequent tweeter with 70k+ tweets and Stephan Brander tops the AfD charts with around 31k+ tweets."
   ]
  },
  {
   "cell_type": "code",
   "execution_count": 98,
   "metadata": {},
   "outputs": [
    {
     "data": {
      "image/png": "[encoded data removed]",
      "text/plain": [
       "<Figure size 432x288 with 1 Axes>"
      ]
     },
     "metadata": {
      "needs_background": "light"
     },
     "output_type": "display_data"
    }
   ],
   "source": [
    "# visualising top hastags afd\n",
    "dfa.Tweet.str.extractall(r'(\\#\\w*)')[0].value_counts()[:15].sort_values(ascending=True).plot(kind='barh')\n",
    "plt.title('Top 15 Hastags used by AfD')\n",
    "plt.xlabel('counts')\n",
    "plt.ylabel('Hastags')\n",
    "plt.show()"
   ]
  },
  {
   "cell_type": "markdown",
   "metadata": {},
   "source": [
    "If we take away the uninformative AfD tag we get:"
   ]
  },
  {
   "cell_type": "code",
   "execution_count": 99,
   "metadata": {},
   "outputs": [
    {
     "data": {
      "image/png": "[encoded data removed]",
      "text/plain": [
       "<Figure size 432x288 with 1 Axes>"
      ]
     },
     "metadata": {
      "needs_background": "light"
     },
     "output_type": "display_data"
    },
    {
     "data": {
      "image/png": "[encoded data removed]",
      "text/plain": [
       "<Figure size 432x288 with 1 Axes>"
      ]
     },
     "metadata": {
      "needs_background": "light"
     },
     "output_type": "display_data"
    }
   ],
   "source": [
    "# visualising top hastags of afd\n",
    "dfa.Tweet.str.extractall(r'(\\#\\w*)')[0].value_counts()[1:15].sort_values(ascending=True).plot(kind='barh')\n",
    "plt.title('Top 15 Hastags used by AfD')\n",
    "plt.xlabel('counts')\n",
    "plt.ylabel('Hastags')\n",
    "plt.show()\n",
    "\n",
    "# visualising top hastags die linke\n",
    "dfl.Tweet.str.extractall(r'(\\#\\w*)')[0].value_counts()[:15].sort_values(ascending=True).plot(kind='barh')\n",
    "plt.title('Top 15 Hastags used by Die Linke')\n",
    "plt.xlabel('counts')\n",
    "plt.ylabel('Hastags')\n",
    "plt.show()"
   ]
  },
  {
   "cell_type": "markdown",
   "metadata": {},
   "source": [
    "We see the they share some similar tweets, such as a dominat recent topic like #Cornona. However, the two official party and Bundestags account may influence and bias these results. Especially, for the AfD side as only 3 accounts reach the API request limit. As such I will exclude them and do the same again."
   ]
  },
  {
   "cell_type": "code",
   "execution_count": 100,
   "metadata": {},
   "outputs": [
    {
     "data": {
      "image/png": "[encoded data removed]",
      "text/plain": [
       "<Figure size 432x288 with 1 Axes>"
      ]
     },
     "metadata": {
      "needs_background": "light"
     },
     "output_type": "display_data"
    },
    {
     "data": {
      "image/png": "[encoded data removed]",
      "text/plain": [
       "<Figure size 432x288 with 1 Axes>"
      ]
     },
     "metadata": {
      "needs_background": "light"
     },
     "output_type": "display_data"
    }
   ],
   "source": [
    "# list on what to exclude\n",
    "lst_1 = ['AfD', 'AfDimBundestag']\n",
    "lst_2 = ['Linksfraktion', 'dieLinke']\n",
    "\n",
    "# afd bar plot\n",
    "dfa[~dfa['User'].isin(lst_1)].Tweet.str.extractall(r'(\\#\\w*)')[0].value_counts()[1:15].sort_values(ascending=True).plot(kind='barh')\n",
    "plt.title('Top 15 Hastags used by AfD')\n",
    "plt.xlabel('counts')\n",
    "plt.ylabel('Hastags')\n",
    "plt.show()\n",
    "\n",
    "# linke bar plot\n",
    "dfl[~dfl['User'].isin(lst_2)].Tweet.str.extractall(r'(\\#\\w*)')[0].value_counts()[1:15].sort_values(ascending=True).plot(kind='barh')\n",
    "plt.title('Top 15 Hastags used by Die Linke')\n",
    "plt.xlabel('counts')\n",
    "plt.ylabel('Hastags')\n",
    "plt.show()"
   ]
  },
  {
   "cell_type": "markdown",
   "metadata": {},
   "source": [
    "Now we can see for one that the first hastag of the AfD got much letts counts as the Bundestags accounts were removed. But looking at the Linke top hastags it is surprising to see that their top used previous hastag #Corona is now nowhere to be seen. This could be because in the Bundestag the covid pandemic was a very prevalent topic, hence these accounts kept retweeting tweets about it. But, the other politicians focused more on their own topics of expertise.\n",
    "\n",
    "Comparing the two charts together we can divide the topics in the following groups:\n",
    "\n",
    "**1. Opposition Work (AfD and Linke)**\n",
    "\n",
    "Both parties use hastags to critise the government, such as #CDU, #Bundestag, #SPD and #Merkel. Likewise, the Linke use #GroKo, #Ampel and #Bundesregierung, whereas the #AfD uses #Berlin. This is typical for opposition parties as they want to make themselves look best by critising the government. These hashtags, however, do not tell us anything about the topic they talk about, but only the direction at who the critism is pointed at.\n",
    "\n",
    "**2. Left Wing Politics (only Linke)**\n",
    "\n",
    "This is a domain only used by the Linke. Hashtags include, #HartzIV, #IchBinArmutsbetroffen. These are all central topics of the left wing party. They are not happy with #HartzIV, the german unemployment benefit, and would like to increase it. Similarly, #IchBinArmutsbetroffen refers to young people and old pensioners who are on the brisk of becomming poor as they loose their job, have a low pension or are exposed to high energy or food prices.\n",
    "\n",
    "Also, #r2g (Red, Red, Green) talks about the left politics of the Berlin federal government composed of SPD, Linke and Greens.\n",
    "\n",
    "**3. Right Wing Politics (only AfD)**\n",
    "\n",
    "Just like the previous point, within this category are only hastags used by the AfD, such as #Deutschland #Deutschlandabernormal. These two hashtags show the importance of the nationalism within the AfD party. Of couse, using the hashtag for Germany should not directly indicate right wing politics, but we know that the AfD is a far right party and they want to change Germany for the better in their eyes. They also hold controversly opionions about the Erinnerungskultur (Culture of Remembrance), which describes the interaction of a society with their past. They believe the soldiers of Nazi Germany should be remembered in a better light than they are currently.\n",
    "\n",
    "Additionally, #Deutschlandabernormal refers to the AfD advertising slogan. In their advertisment video they talk about the problems with the Euro, open boarders, how Germany should rely on innovation to stop the climate change, the pandemic and how the government does not help the small people with their buisnesses, but only big corporations. The light in which these topics are represented clearly show a right wing ideology.\n",
    "\n",
    "Other hashtags as #Greiz and especially #Gera refer to the rightwing extremist demonstrations of the town Gera in Thüringen east Germany. In response to these demonstrations the president of the office for the defense of the constitution in Thüringen, Stephan Krahmer, states that radicalisation and the threshold to use violence has decreased significantly. AfD politicans use this hashtag to show their support for this movement.\n",
    "\n",
    "**4. Thürigen** (AfD and Linke)\n",
    "\n",
    "This small minor group centers around the hashtag #Thüringen and is about the Thüringen federal government cirisis in 2020, in which for the first time the AfD almost became part of the government. Thomas Kemmerich running for the FDP accepted to form a coalition with the AfD, but days later reisgned and the previous minister president Bodo Ramelow of the Linke was reelected."
   ]
  },
  {
   "cell_type": "markdown",
   "metadata": {},
   "source": [
    "<h4> Word Clouds"
   ]
  }
 ],
 "metadata": {
  "kernelspec": {
   "display_name": "Python 3.9.12 ('base')",
   "language": "python",
   "name": "python3"
  },
  "language_info": {
   "codemirror_mode": {
    "name": "ipython",
    "version": 3
   },
   "file_extension": ".py",
   "mimetype": "text/x-python",
   "name": "python",
   "nbconvert_exporter": "python",
   "pygments_lexer": "ipython3",
   "version": "3.9.12"
  },
  "orig_nbformat": 4,
  "vscode": {
   "interpreter": {
    "hash": "298f11f1bc37c0977d13300928de2855f0ba81dcebd5afe6513f91d86925e170"
   }
  }
 },
 "nbformat": 4,
 "nbformat_minor": 2
}
